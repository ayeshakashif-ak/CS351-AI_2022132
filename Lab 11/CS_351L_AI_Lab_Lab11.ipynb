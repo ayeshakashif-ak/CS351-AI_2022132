{
  "nbformat": 4,
  "nbformat_minor": 0,
  "metadata": {
    "colab": {
      "provenance": []
    },
    "kernelspec": {
      "name": "python3",
      "display_name": "Python 3"
    },
    "language_info": {
      "name": "python"
    }
  },
  "cells": [
    {
      "cell_type": "markdown",
      "source": [
        "# **CS351-Lab 11**\n",
        "**Advanced Model Evaluation and Hyperparameter Tuning**\n",
        "\n",
        "\n",
        "\n",
        "1. Computing advanced model evaluation metrics beyond accuracy (e.g.,precision, recall, F1-score, ROC-AUC).\n",
        "2.   Implement k-fold and stratified k-fold cross-validation to ensure robust model evaluation.\n",
        "3. Perform hyperparameter tuning using Grid Search and Random Search\n"
      ],
      "metadata": {
        "id": "EEnqYet-m-5N"
      }
    },
    {
      "cell_type": "markdown",
      "source": [
        "Import Libraries and Load the Digits Dataset"
      ],
      "metadata": {
        "id": "Ly-JNcQWouEr"
      }
    },
    {
      "cell_type": "code",
      "source": [
        "# Import required libraries\n",
        "import numpy as np\n",
        "import pandas as pd\n",
        "from sklearn.model_selection import train_test_split, KFold, StratifiedKFold, GridSearchCV, RandomizedSearchCV\n",
        "from sklearn.metrics import accuracy_score, precision_score, recall_score, f1_score, classification_report\n",
        "from sklearn.ensemble import RandomForestClassifier\n",
        "from sklearn.datasets import load_digits\n",
        "# Load the Digits dataset\n",
        "data = load_digits()\n",
        "X = data.data  # Features\n",
        "y = data.target  # Labels\n",
        "\n",
        "# Split into training and testing sets\n",
        "X_train, X_test, y_train, y_test = train_test_split(X, y, test_size=0.2, random_state=42, stratify=y)\n",
        "\n",
        "print(f\"Training samples: {X_train.shape[0]}, Testing samples: {X_test.shape[0]}\")\n"
      ],
      "metadata": {
        "colab": {
          "base_uri": "https://localhost:8080/"
        },
        "id": "ZVDn1i8JnP9k",
        "outputId": "bd735001-8810-41a6-91c7-1418cc14312b"
      },
      "execution_count": 1,
      "outputs": [
        {
          "output_type": "stream",
          "name": "stdout",
          "text": [
            "Training samples: 1437, Testing samples: 360\n"
          ]
        }
      ]
    },
    {
      "cell_type": "markdown",
      "source": [
        "Evaluate Model with Advanced Metrics"
      ],
      "metadata": {
        "id": "NqkwGVYJowG5"
      }
    },
    {
      "cell_type": "code",
      "source": [
        "# Train a simple Random Forest Classifier\n",
        "model = RandomForestClassifier(random_state=42)\n",
        "model.fit(X_train, y_train)\n",
        "# Predict on the test set\n",
        "y_pred = model.predict(X_test)\n",
        "\n",
        "# Calculate evaluation metrics for multi-class classification\n",
        "accuracy = accuracy_score(y_test, y_pred)\n",
        "precision = precision_score(y_test, y_pred, average='weighted')  # weighted for multi-class\n",
        "recall = recall_score(y_test, y_pred, average='weighted')  # weighted for multi-class\n",
        "f1 = f1_score(y_test, y_pred, average='weighted')  # weighted for multi-class\n",
        "\n",
        "print(f\"Accuracy: {accuracy:.2f}\")\n",
        "print(f\"Precision: {precision:.2f}\")\n",
        "print(f\"Recall: {recall:.2f}\")\n",
        "print(f\"F1 Score: {f1:.2f}\")\n",
        "\n",
        "# Display a detailed classification report\n",
        "print(\"\\nClassification Report:\\n\", classification_report(y_test, y_pred))"
      ],
      "metadata": {
        "colab": {
          "base_uri": "https://localhost:8080/"
        },
        "id": "qDNxWYpzozbA",
        "outputId": "4c97eb74-f52e-4156-fbfd-de9cce64ea1c"
      },
      "execution_count": 4,
      "outputs": [
        {
          "output_type": "stream",
          "name": "stdout",
          "text": [
            "Accuracy: 0.96\n",
            "Precision: 0.96\n",
            "Recall: 0.96\n",
            "F1 Score: 0.96\n",
            "\n",
            "Classification Report:\n",
            "               precision    recall  f1-score   support\n",
            "\n",
            "           0       0.97      0.97      0.97        36\n",
            "           1       0.90      0.97      0.93        36\n",
            "           2       1.00      0.97      0.99        35\n",
            "           3       0.97      0.97      0.97        37\n",
            "           4       0.97      0.97      0.97        36\n",
            "           5       0.97      1.00      0.99        37\n",
            "           6       1.00      0.97      0.99        36\n",
            "           7       0.92      1.00      0.96        36\n",
            "           8       0.94      0.86      0.90        35\n",
            "           9       0.97      0.92      0.94        36\n",
            "\n",
            "    accuracy                           0.96       360\n",
            "   macro avg       0.96      0.96      0.96       360\n",
            "weighted avg       0.96      0.96      0.96       360\n",
            "\n"
          ]
        }
      ]
    },
    {
      "cell_type": "markdown",
      "source": [
        "Cross-Validation Techniques"
      ],
      "metadata": {
        "id": "afIcF8swoyu4"
      }
    },
    {
      "cell_type": "code",
      "source": [
        "# Perform k-fold cross-validation\n",
        "kf = KFold(n_splits=5, shuffle=True, random_state=42)\n",
        "fold_accuracies = []\n",
        "\n",
        "for train_index, val_index in kf.split(X_train):\n",
        "    X_fold_train, X_fold_val = X_train[train_index], X_train[val_index]\n",
        "    y_fold_train, y_fold_val = y_train[train_index], y_train[val_index]\n",
        "\n",
        "    model = RandomForestClassifier(random_state=42)\n",
        "    model.fit(X_fold_train, y_fold_train)\n",
        "    y_fold_pred = model.predict(X_fold_val)\n",
        "    fold_accuracies.append(accuracy_score(y_fold_val, y_fold_pred))\n",
        "\n",
        "print(f\"K-Fold Cross-Validation Accuracies: {fold_accuracies}\")\n",
        "print(f\"Mean Accuracy: {np.mean(fold_accuracies):.2f}\")"
      ],
      "metadata": {
        "colab": {
          "base_uri": "https://localhost:8080/"
        },
        "id": "LpfRHS8Ro2CX",
        "outputId": "88d9b3a7-fcf4-4405-d178-7198c07ccaec"
      },
      "execution_count": 5,
      "outputs": [
        {
          "output_type": "stream",
          "name": "stdout",
          "text": [
            "K-Fold Cross-Validation Accuracies: [0.96875, 0.9791666666666666, 0.9651567944250871, 0.9616724738675958, 0.975609756097561]\n",
            "Mean Accuracy: 0.97\n"
          ]
        }
      ]
    },
    {
      "cell_type": "code",
      "source": [
        "# Perform stratified k-fold cross-validation\n",
        "skf = StratifiedKFold(n_splits=5, shuffle=True, random_state=42)\n",
        "stratified_accuracies = []\n",
        "\n",
        "for train_index, val_index in skf.split(X_train, y_train):\n",
        "    X_fold_train, X_fold_val = X_train[train_index], X_train[val_index]\n",
        "    y_fold_train, y_fold_val = y_train[train_index], y_train[val_index]\n",
        "\n",
        "    model = RandomForestClassifier(random_state=42)\n",
        "    model.fit(X_fold_train, y_fold_train)\n",
        "    y_fold_pred = model.predict(X_fold_val)\n",
        "    stratified_accuracies.append(accuracy_score(y_fold_val, y_fold_pred))\n",
        "\n",
        "print(f\"Stratified K-Fold Accuracies: {stratified_accuracies}\")\n",
        "print(f\"Mean Stratified Accuracy: {np.mean(stratified_accuracies):.2f}\")"
      ],
      "metadata": {
        "colab": {
          "base_uri": "https://localhost:8080/"
        },
        "id": "p-vKp9Eko475",
        "outputId": "2fc5ecea-ac78-4fb2-d2a3-b819bdea8b71"
      },
      "execution_count": 6,
      "outputs": [
        {
          "output_type": "stream",
          "name": "stdout",
          "text": [
            "Stratified K-Fold Accuracies: [0.9722222222222222, 0.9756944444444444, 0.975609756097561, 0.9581881533101045, 0.9825783972125436]\n",
            "Mean Stratified Accuracy: 0.97\n"
          ]
        }
      ]
    },
    {
      "cell_type": "markdown",
      "source": [
        "Hyperparameter Tuning"
      ],
      "metadata": {
        "id": "vBh4b-jmo2oX"
      }
    },
    {
      "cell_type": "code",
      "source": [
        "# Perform Grid Search for hyperparameter tuning\n",
        "param_grid = {\n",
        "    'n_estimators': [50, 100, 200],\n",
        "    'max_depth': [None, 10, 20],\n",
        "    'min_samples_split': [2, 5, 10]\n",
        "}\n",
        "\n",
        "grid_search = GridSearchCV(RandomForestClassifier(random_state=42), param_grid, cv=5, scoring='accuracy')\n",
        "grid_search.fit(X_train, y_train)\n",
        "\n",
        "print(\"Best Parameters from Grid Search:\", grid_search.best_params_)\n",
        "print(\"Best Cross-Validation Accuracy:\", grid_search.best_score_)\n",
        "\n"
      ],
      "metadata": {
        "colab": {
          "base_uri": "https://localhost:8080/"
        },
        "id": "6JF5z7Jro5XU",
        "outputId": "6f4dcdad-ee1f-48a8-9356-2bdad1b51c16"
      },
      "execution_count": 7,
      "outputs": [
        {
          "output_type": "stream",
          "name": "stdout",
          "text": [
            "Best Parameters from Grid Search: {'max_depth': 10, 'min_samples_split': 2, 'n_estimators': 200}\n",
            "Best Cross-Validation Accuracy: 0.975633952768099\n"
          ]
        }
      ]
    },
    {
      "cell_type": "code",
      "source": [
        "# Perform Random Search for hyperparameter tuning\n",
        "param_dist = {\n",
        "    'n_estimators': [10, 50, 100, 200],\n",
        "    'max_depth': [None, 10, 20, 30],\n",
        "    'min_samples_split': [2, 5, 10, 15]\n",
        "}\n",
        "\n",
        "random_search = RandomizedSearchCV(RandomForestClassifier(random_state=42), param_dist, n_iter=10, cv=5, scoring='accuracy', random_state=42)\n",
        "random_search.fit(X_train, y_train)\n",
        "\n",
        "print(\"Best Parameters from Random Search:\", random_search.best_params_)\n",
        "print(\"Best Cross-Validation Accuracy:\", random_search.best_score_)"
      ],
      "metadata": {
        "colab": {
          "base_uri": "https://localhost:8080/"
        },
        "id": "0_rfqosyo7lY",
        "outputId": "9ee3ecd0-c227-4ea8-acd2-fa072265282c"
      },
      "execution_count": 8,
      "outputs": [
        {
          "output_type": "stream",
          "name": "stdout",
          "text": [
            "Best Parameters from Random Search: {'n_estimators': 50, 'min_samples_split': 5, 'max_depth': None}\n",
            "Best Cross-Validation Accuracy: 0.9686822493224932\n"
          ]
        }
      ]
    }
  ]
}