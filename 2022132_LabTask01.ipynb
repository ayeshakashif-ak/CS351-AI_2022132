{
  "nbformat": 4,
  "nbformat_minor": 0,
  "metadata": {
    "colab": {
      "provenance": []
    },
    "kernelspec": {
      "name": "python3",
      "display_name": "Python 3"
    },
    "language_info": {
      "name": "python"
    }
  },
  "cells": [
    {
      "cell_type": "markdown",
      "source": [
        "# Lab Task 01:\n",
        "\n",
        "*   BFS version\n",
        "*   DFS version\n",
        "*   My own algorithm: IDDFS"
      ],
      "metadata": {
        "id": "TSZG4G1Y8quq"
      }
    },
    {
      "cell_type": "code",
      "execution_count": 2,
      "metadata": {
        "id": "RoTkMNjY8dsA",
        "colab": {
          "base_uri": "https://localhost:8080/"
        },
        "outputId": "b3382f2a-5e4b-4186-de4f-b9bc7cf48fbb"
      },
      "outputs": [
        {
          "output_type": "stream",
          "name": "stdout",
          "text": [
            "Think of a number between 1 and 100, and AI will try to guess it using BFS.\n",
            "AI's guess is: 1\n",
            "Enter 'h' if too high, 'l' if too low, or 'c' if correct: l\n",
            "AI's guess is: 2\n",
            "Enter 'h' if too high, 'l' if too low, or 'c' if correct: l\n",
            "AI's guess is: 3\n",
            "Enter 'h' if too high, 'l' if too low, or 'c' if correct: l\n",
            "AI's guess is: 4\n",
            "Enter 'h' if too high, 'l' if too low, or 'c' if correct: l\n",
            "AI's guess is: 5\n",
            "Enter 'h' if too high, 'l' if too low, or 'c' if correct: c\n",
            "AI guessed the number in 5 attempts using BFS!\n"
          ]
        }
      ],
      "source": [
        "from collections import deque\n",
        "\n",
        "def bfs_guessing_game():\n",
        "    print(\"Think of a number between 1 and 100, and AI will try to guess it using BFS.\")\n",
        "\n",
        "    queue = deque(range(1, 101))  #BFS explores all possibilities from 1 - 100;\n",
        "    attempts = 0\n",
        "\n",
        "    while queue:\n",
        "        guess = queue.popleft()  #next number in the queue\n",
        "        attempts += 1\n",
        "\n",
        "        print(f\"AI's guess is: {guess}\")\n",
        "        feedback = input(\"Enter 'h' if too high, 'l' if too low, or 'c' if correct: \").lower()\n",
        "\n",
        "        if feedback == 'c':\n",
        "            print(f\"AI guessed the number in {attempts} attempts using BFS!\")\n",
        "            return\n",
        "        elif feedback == 'h':\n",
        "            #Remove all elements greater than the current guess\n",
        "            continue\n",
        "        elif feedback == 'l':\n",
        "            #Remove all elements smaller than the current guess;\n",
        "            continue\n",
        "\n",
        "    print(\"Something went wrong!\")\n",
        "\n",
        "#Run the BFS version\n",
        "bfs_guessing_game()\n"
      ]
    },
    {
      "cell_type": "markdown",
      "source": [
        "The chosen number was 5.\n",
        "\n",
        "\n"
      ],
      "metadata": {
        "id": "nCMB6cZ49KLU"
      }
    },
    {
      "cell_type": "code",
      "source": [
        "def dfs_guessing_game(low=1, high=100, attempts=0):\n",
        "    if low > high:\n",
        "        print(\"Something went wrong!\")\n",
        "        return\n",
        "\n",
        "    guess = (low + high) // 2  #mid value, // gives the integer part only\n",
        "    attempts += 1\n",
        "\n",
        "    print(f\"AI's guess is: {guess}\")\n",
        "    feedback = input(\"Enter 'h' if too high, 'l' if too low, or 'c' if correct: \").lower()\n",
        "\n",
        "    if feedback == 'c':\n",
        "        print(f\"AI guessed the number in {attempts} attempts using DFS!\")\n",
        "        return\n",
        "    elif feedback == 'h':\n",
        "        dfs_guessing_game(low, guess - 1, attempts)  #recursively search in the lower half\n",
        "    elif feedback == 'l':\n",
        "        dfs_guessing_game(guess + 1, high, attempts)  #recursively search in the upper half\n",
        "\n",
        "# Run the DFS version\n",
        "dfs_guessing_game()\n"
      ],
      "metadata": {
        "id": "OnGErjny8ky8",
        "colab": {
          "base_uri": "https://localhost:8080/"
        },
        "outputId": "a26959e1-071f-4384-900e-9e35d8aea728"
      },
      "execution_count": 4,
      "outputs": [
        {
          "output_type": "stream",
          "name": "stdout",
          "text": [
            "AI's guess is: 50\n",
            "Enter 'h' if too high, 'l' if too low, or 'c' if correct: h\n",
            "AI's guess is: 25\n",
            "Enter 'h' if too high, 'l' if too low, or 'c' if correct: l\n",
            "AI's guess is: 37\n",
            "Enter 'h' if too high, 'l' if too low, or 'c' if correct: h\n",
            "AI's guess is: 31\n",
            "Enter 'h' if too high, 'l' if too low, or 'c' if correct: h\n",
            "AI's guess is: 28\n",
            "Enter 'h' if too high, 'l' if too low, or 'c' if correct: l\n",
            "AI's guess is: 29\n",
            "Enter 'h' if too high, 'l' if too low, or 'c' if correct: c\n",
            "AI guessed the number in 6 attempts using DFS!\n"
          ]
        }
      ]
    },
    {
      "cell_type": "markdown",
      "source": [
        "The chosen number was 29:"
      ],
      "metadata": {
        "id": "xG3xWXUs9pQt"
      }
    },
    {
      "cell_type": "code",
      "source": [
        "def iddfs_number_guessing_game():\n",
        "    print(\"Think of a number between 1 and 100, and AI will try to guess it.\")\n",
        "\n",
        "    def dfs_with_limit(low, high, depth_limit, attempts):\n",
        "        if depth_limit < 0:\n",
        "            return False\n",
        "\n",
        "        # Guess is the midpoint of the current range\n",
        "        guess = (low + high) // 2\n",
        "        attempts += 1\n",
        "\n",
        "        print(f\"AI's guess is: {guess}\")\n",
        "        feedback = input(\"Enter 'h' if too high, 'l' if too low, or 'c' if correct: \").lower()\n",
        "\n",
        "        if feedback == 'c':\n",
        "            print(f\"AI guessed the number in {attempts} attempts using IDDFS!\")\n",
        "            return True\n",
        "        elif feedback == 'h':\n",
        "            # Explore the lower half\n",
        "            return dfs_with_limit(low, guess - 1, depth_limit - 1, attempts)\n",
        "        elif feedback == 'l':\n",
        "            # Explore the upper half\n",
        "            return dfs_with_limit(guess + 1, high, depth_limit - 1, attempts)\n",
        "        return False\n",
        "\n",
        "    def iddfs():\n",
        "        depth_limit = 1\n",
        "        attempts = 0\n",
        "\n",
        "        while True:\n",
        "            print(f\"Trying with depth limit {depth_limit}\")\n",
        "            if dfs_with_limit(1, 100, depth_limit, attempts):\n",
        "                return\n",
        "            depth_limit += 1\n",
        "\n",
        "    # Start the IDDFS search\n",
        "    iddfs()\n",
        "\n",
        "# Run the IDDFS version\n",
        "iddfs_number_guessing_game()\n"
      ],
      "metadata": {
        "id": "YQhPNTxg8naE",
        "colab": {
          "base_uri": "https://localhost:8080/"
        },
        "outputId": "0bd9fecc-f765-46af-e546-81bb194534d9"
      },
      "execution_count": 3,
      "outputs": [
        {
          "output_type": "stream",
          "name": "stdout",
          "text": [
            "Think of a number between 1 and 100, and AI will try to guess it.\n",
            "Trying with depth limit 1\n",
            "AI's guess is: 50\n",
            "Enter 'h' if too high, 'l' if too low, or 'c' if correct: h\n",
            "AI's guess is: 25\n",
            "Enter 'h' if too high, 'l' if too low, or 'c' if correct: c\n",
            "AI guessed the number in 2 attempts using IDDFS!\n"
          ]
        }
      ]
    },
    {
      "cell_type": "markdown",
      "source": [
        "I have chosen the iddfs algorithm- Iterative Deepening Depth-First Search- as it a combination of BFS and DFS.  Like BFS it has no search space limit. It is efficient as it doesnt require alot of space since it only stores the current path.\n",
        "\n",
        "The number was 25."
      ],
      "metadata": {
        "id": "fufmaGh595tP"
      }
    }
  ]
}